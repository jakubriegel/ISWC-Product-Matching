{
 "cells": [
  {
   "cell_type": "markdown",
   "metadata": {},
   "source": [
    "# Mining the Web of HTML-embedded Product Data\n",
    "# Product Matching\n",
    "Jakub Riegel\n",
    "Winter 2020"
   ]
  },
  {
   "cell_type": "markdown",
   "metadata": {},
   "source": [
    "https://ir-ischool-uos.github.io/mwpd/"
   ]
  },
  {
   "cell_type": "markdown",
   "metadata": {},
   "source": [
    "---\n",
    "## Env"
   ]
  },
  {
   "cell_type": "code",
   "execution_count": 2,
   "metadata": {},
   "outputs": [],
   "source": [
    "import pandas as pd"
   ]
  },
  {
   "cell_type": "code",
   "execution_count": 3,
   "metadata": {},
   "outputs": [],
   "source": [
    "OFFERS_CORPUS = './data/offers_corpus_english_v2_non_norm_swc.json'\n",
    "OFFERS_CORPUS_SMALL = './data/corpus_small.json'"
   ]
  },
  {
   "cell_type": "markdown",
   "metadata": {},
   "source": [
    "---\n",
    "## Data"
   ]
  },
  {
   "cell_type": "markdown",
   "metadata": {},
   "source": [
    "### Corpus"
   ]
  },
  {
   "cell_type": "markdown",
   "metadata": {},
   "source": [
    "#### Data format\n",
    "We offer the product data corpus in JSON format. Offers having the same cluster ID attribute are considered to describe the same real-world product while different cluster IDs signify different products. The grouping of offers into clusters is subject to some degree of noise (approx. 7%) as it has been constructed using a heuristic to cleanse the product identifiers, such as GTINs and MPNs, found on the Web. Every JSON object describing an offer has the following JSON properties:\n",
    "\n",
    "* id: Unique identifier of an offer (random integer) (DO NOT USE AS FEATURE!)\n",
    "* cluster_id: The heuristically assigned identifier of the cluster to which an offer belongs (DO NOT USE AS FEATURE!)\n",
    "* category: One of 25 product categories the product was assigned to\n",
    "* title: The product offer title\n",
    "* description: The product offer description\n",
    "* brand: The product offer brand\n",
    "* price: The product offer price\n",
    "* specTableContent: The specification table content found on the website of the product offer as one string\n",
    "* keyValuePairs: The key-value pairs that were extracted from the specification tables."
   ]
  },
  {
   "cell_type": "markdown",
   "metadata": {},
   "source": [
    "#### Upload"
   ]
  },
  {
   "cell_type": "code",
   "execution_count": 4,
   "metadata": {},
   "outputs": [],
   "source": [
    "corpus = pd.read_json(OFFERS_CORPUS_SMALL, lines=True, orient='records')"
   ]
  },
  {
   "cell_type": "code",
   "execution_count": 5,
   "metadata": {},
   "outputs": [
    {
     "data": {
      "text/plain": [
       "3000000"
      ]
     },
     "execution_count": 5,
     "metadata": {},
     "output_type": "execute_result"
    }
   ],
   "source": [
    "len(corpus)"
   ]
  },
  {
   "cell_type": "code",
   "execution_count": 6,
   "metadata": {},
   "outputs": [
    {
     "data": {
      "text/html": [
       "<div>\n",
       "<style scoped>\n",
       "    .dataframe tbody tr th:only-of-type {\n",
       "        vertical-align: middle;\n",
       "    }\n",
       "\n",
       "    .dataframe tbody tr th {\n",
       "        vertical-align: top;\n",
       "    }\n",
       "\n",
       "    .dataframe thead th {\n",
       "        text-align: right;\n",
       "    }\n",
       "</style>\n",
       "<table border=\"1\" class=\"dataframe\">\n",
       "  <thead>\n",
       "    <tr style=\"text-align: right;\">\n",
       "      <th></th>\n",
       "      <th>id</th>\n",
       "      <th>cluster_id</th>\n",
       "      <th>category</th>\n",
       "      <th>title</th>\n",
       "      <th>description</th>\n",
       "      <th>brand</th>\n",
       "      <th>price</th>\n",
       "      <th>keyValuePairs</th>\n",
       "      <th>specTableContent</th>\n",
       "    </tr>\n",
       "  </thead>\n",
       "  <tbody>\n",
       "    <tr>\n",
       "      <th>0</th>\n",
       "      <td>11920489</td>\n",
       "      <td>2533918</td>\n",
       "      <td>Musical_Instruments</td>\n",
       "      <td>\"Ritter RGP5-D/BSG Performance 5 Series Bag: ...</td>\n",
       "      <td>\"\\nThe Ritter RGP5-D padded gigbag offers styl...</td>\n",
       "      <td>None</td>\n",
       "      <td>None</td>\n",
       "      <td>None</td>\n",
       "      <td>None</td>\n",
       "    </tr>\n",
       "    <tr>\n",
       "      <th>1</th>\n",
       "      <td>12648455</td>\n",
       "      <td>11167803</td>\n",
       "      <td>Tools_and_Home_Improvement</td>\n",
       "      <td>\"Krowne - 14-802L 8 in Royal Series Wall Moun...</td>\n",
       "      <td>\"The 14-802L Royal Series Wall Mount Faucet w/...</td>\n",
       "      <td>\"Krowne\"@en</td>\n",
       "      <td>None</td>\n",
       "      <td>None</td>\n",
       "      <td>None</td>\n",
       "    </tr>\n",
       "    <tr>\n",
       "      <th>2</th>\n",
       "      <td>7634831</td>\n",
       "      <td>11621476</td>\n",
       "      <td>Jewelry</td>\n",
       "      <td>\"A. Jaffe Art Deco ME2105Q-163\" \"Shop A. MES6...</td>\n",
       "      <td>\"&lt;p&gt; An everlasting symbol of love,  model num...</td>\n",
       "      <td>None</td>\n",
       "      <td>None</td>\n",
       "      <td>None</td>\n",
       "      <td>None</td>\n",
       "    </tr>\n",
       "    <tr>\n",
       "      <th>3</th>\n",
       "      <td>16519583</td>\n",
       "      <td>8824768</td>\n",
       "      <td>Sports_and_Outdoors</td>\n",
       "      <td>\"Gore bike wear Element Lady 2in1 Shorts\" Sho...</td>\n",
       "      <td>\"\\n\\t\\tProduktbeskrivning Gore bike wear Eleme...</td>\n",
       "      <td>\"Gore bike wear\"</td>\n",
       "      <td>None</td>\n",
       "      <td>None</td>\n",
       "      <td>None</td>\n",
       "    </tr>\n",
       "    <tr>\n",
       "      <th>4</th>\n",
       "      <td>3362858</td>\n",
       "      <td>7523117</td>\n",
       "      <td>Shoes</td>\n",
       "      <td></td>\n",
       "      <td>None</td>\n",
       "      <td>None</td>\n",
       "      <td>\"USD\"</td>\n",
       "      <td>None</td>\n",
       "      <td>None</td>\n",
       "    </tr>\n",
       "  </tbody>\n",
       "</table>\n",
       "</div>"
      ],
      "text/plain": [
       "         id  cluster_id                    category  \\\n",
       "0  11920489     2533918         Musical_Instruments   \n",
       "1  12648455    11167803  Tools_and_Home_Improvement   \n",
       "2   7634831    11621476                     Jewelry   \n",
       "3  16519583     8824768         Sports_and_Outdoors   \n",
       "4   3362858     7523117                       Shoes   \n",
       "\n",
       "                                               title  \\\n",
       "0   \"Ritter RGP5-D/BSG Performance 5 Series Bag: ...   \n",
       "1   \"Krowne - 14-802L 8 in Royal Series Wall Moun...   \n",
       "2   \"A. Jaffe Art Deco ME2105Q-163\" \"Shop A. MES6...   \n",
       "3   \"Gore bike wear Element Lady 2in1 Shorts\" Sho...   \n",
       "4                                                      \n",
       "\n",
       "                                         description             brand  price  \\\n",
       "0  \"\\nThe Ritter RGP5-D padded gigbag offers styl...              None   None   \n",
       "1  \"The 14-802L Royal Series Wall Mount Faucet w/...       \"Krowne\"@en   None   \n",
       "2  \"<p> An everlasting symbol of love,  model num...              None   None   \n",
       "3  \"\\n\\t\\tProduktbeskrivning Gore bike wear Eleme...  \"Gore bike wear\"   None   \n",
       "4                                               None              None  \"USD\"   \n",
       "\n",
       "  keyValuePairs specTableContent  \n",
       "0          None             None  \n",
       "1          None             None  \n",
       "2          None             None  \n",
       "3          None             None  \n",
       "4          None             None  "
      ]
     },
     "execution_count": 6,
     "metadata": {},
     "output_type": "execute_result"
    }
   ],
   "source": [
    "corpus.head()"
   ]
  },
  {
   "cell_type": "code",
   "execution_count": 7,
   "metadata": {},
   "outputs": [],
   "source": [
    "def distinct(column: str) -> pd.DataFrame:\n",
    "    df = corpus[[column, 'id']].groupby([column]).count()\n",
    "    return df.sort_values(by='id', ascending=False)"
   ]
  },
  {
   "cell_type": "markdown",
   "metadata": {},
   "source": [
    "#### Distict products"
   ]
  },
  {
   "cell_type": "code",
   "execution_count": 8,
   "metadata": {},
   "outputs": [
    {
     "data": {
      "text/html": [
       "<div>\n",
       "<style scoped>\n",
       "    .dataframe tbody tr th:only-of-type {\n",
       "        vertical-align: middle;\n",
       "    }\n",
       "\n",
       "    .dataframe tbody tr th {\n",
       "        vertical-align: top;\n",
       "    }\n",
       "\n",
       "    .dataframe thead th {\n",
       "        text-align: right;\n",
       "    }\n",
       "</style>\n",
       "<table border=\"1\" class=\"dataframe\">\n",
       "  <thead>\n",
       "    <tr style=\"text-align: right;\">\n",
       "      <th></th>\n",
       "      <th>id</th>\n",
       "    </tr>\n",
       "    <tr>\n",
       "      <th>cluster_id</th>\n",
       "      <th></th>\n",
       "    </tr>\n",
       "  </thead>\n",
       "  <tbody>\n",
       "    <tr>\n",
       "      <th>6752244</th>\n",
       "      <td>9574</td>\n",
       "    </tr>\n",
       "    <tr>\n",
       "      <th>8210849</th>\n",
       "      <td>9539</td>\n",
       "    </tr>\n",
       "    <tr>\n",
       "      <th>2031087</th>\n",
       "      <td>9472</td>\n",
       "    </tr>\n",
       "    <tr>\n",
       "      <th>8117288</th>\n",
       "      <td>9449</td>\n",
       "    </tr>\n",
       "    <tr>\n",
       "      <th>6493281</th>\n",
       "      <td>8697</td>\n",
       "    </tr>\n",
       "  </tbody>\n",
       "</table>\n",
       "</div>"
      ],
      "text/plain": [
       "              id\n",
       "cluster_id      \n",
       "6752244     9574\n",
       "8210849     9539\n",
       "2031087     9472\n",
       "8117288     9449\n",
       "6493281     8697"
      ]
     },
     "execution_count": 8,
     "metadata": {},
     "output_type": "execute_result"
    }
   ],
   "source": [
    "products = distinct('cluster_id')\n",
    "products.head()"
   ]
  },
  {
   "cell_type": "code",
   "execution_count": 35,
   "metadata": {},
   "outputs": [
    {
     "data": {
      "text/plain": [
       "2243050"
      ]
     },
     "execution_count": 35,
     "metadata": {},
     "output_type": "execute_result"
    }
   ],
   "source": [
    "len(products)"
   ]
  },
  {
   "cell_type": "code",
   "execution_count": 10,
   "metadata": {},
   "outputs": [
    {
     "data": {
      "text/plain": [
       "183229"
      ]
     },
     "execution_count": 10,
     "metadata": {},
     "output_type": "execute_result"
    }
   ],
   "source": [
    "len(products[products['id'] > 1])"
   ]
  },
  {
   "cell_type": "code",
   "execution_count": null,
   "metadata": {},
   "outputs": [],
   "source": []
  },
  {
   "cell_type": "markdown",
   "metadata": {},
   "source": [
    "#### Categories"
   ]
  },
  {
   "cell_type": "code",
   "execution_count": 11,
   "metadata": {},
   "outputs": [
    {
     "data": {
      "text/html": [
       "<div>\n",
       "<style scoped>\n",
       "    .dataframe tbody tr th:only-of-type {\n",
       "        vertical-align: middle;\n",
       "    }\n",
       "\n",
       "    .dataframe tbody tr th {\n",
       "        vertical-align: top;\n",
       "    }\n",
       "\n",
       "    .dataframe thead th {\n",
       "        text-align: right;\n",
       "    }\n",
       "</style>\n",
       "<table border=\"1\" class=\"dataframe\">\n",
       "  <thead>\n",
       "    <tr style=\"text-align: right;\">\n",
       "      <th></th>\n",
       "      <th>id</th>\n",
       "    </tr>\n",
       "    <tr>\n",
       "      <th>category</th>\n",
       "      <th></th>\n",
       "    </tr>\n",
       "  </thead>\n",
       "  <tbody>\n",
       "    <tr>\n",
       "      <th>Office_Products</th>\n",
       "      <td>393312</td>\n",
       "    </tr>\n",
       "    <tr>\n",
       "      <th>Tools_and_Home_Improvement</th>\n",
       "      <td>281551</td>\n",
       "    </tr>\n",
       "    <tr>\n",
       "      <th>Home_and_Garden</th>\n",
       "      <td>266802</td>\n",
       "    </tr>\n",
       "    <tr>\n",
       "      <th>Automotive</th>\n",
       "      <td>251303</td>\n",
       "    </tr>\n",
       "    <tr>\n",
       "      <th>Clothing</th>\n",
       "      <td>200816</td>\n",
       "    </tr>\n",
       "    <tr>\n",
       "      <th>Sports_and_Outdoors</th>\n",
       "      <td>163752</td>\n",
       "    </tr>\n",
       "    <tr>\n",
       "      <th>Other_Electronics</th>\n",
       "      <td>158273</td>\n",
       "    </tr>\n",
       "    <tr>\n",
       "      <th>Jewelry</th>\n",
       "      <td>148414</td>\n",
       "    </tr>\n",
       "    <tr>\n",
       "      <th>Books</th>\n",
       "      <td>125832</td>\n",
       "    </tr>\n",
       "    <tr>\n",
       "      <th>Shoes</th>\n",
       "      <td>124722</td>\n",
       "    </tr>\n",
       "    <tr>\n",
       "      <th>Computers_and_Accessories</th>\n",
       "      <td>121602</td>\n",
       "    </tr>\n",
       "    <tr>\n",
       "      <th>Health_and_Beauty</th>\n",
       "      <td>117265</td>\n",
       "    </tr>\n",
       "    <tr>\n",
       "      <th>Toys_and_Games</th>\n",
       "      <td>96144</td>\n",
       "    </tr>\n",
       "    <tr>\n",
       "      <th>Grocery_and_Gourmet_Food</th>\n",
       "      <td>90213</td>\n",
       "    </tr>\n",
       "    <tr>\n",
       "      <th>Luggage_and_Travel_Gear</th>\n",
       "      <td>80209</td>\n",
       "    </tr>\n",
       "    <tr>\n",
       "      <th>Musical_Instruments</th>\n",
       "      <td>60530</td>\n",
       "    </tr>\n",
       "    <tr>\n",
       "      <th>Camera_and_Photo</th>\n",
       "      <td>58931</td>\n",
       "    </tr>\n",
       "    <tr>\n",
       "      <th>CDs_and_Vinyl</th>\n",
       "      <td>53913</td>\n",
       "    </tr>\n",
       "    <tr>\n",
       "      <th>Cellphones_and_Accessories</th>\n",
       "      <td>45814</td>\n",
       "    </tr>\n",
       "    <tr>\n",
       "      <th>Baby</th>\n",
       "      <td>44023</td>\n",
       "    </tr>\n",
       "    <tr>\n",
       "      <th>not found</th>\n",
       "      <td>37190</td>\n",
       "    </tr>\n",
       "    <tr>\n",
       "      <th>Movies_and_TV</th>\n",
       "      <td>29050</td>\n",
       "    </tr>\n",
       "    <tr>\n",
       "      <th>Video_Games</th>\n",
       "      <td>27366</td>\n",
       "    </tr>\n",
       "    <tr>\n",
       "      <th>Pet_Supplies</th>\n",
       "      <td>18796</td>\n",
       "    </tr>\n",
       "    <tr>\n",
       "      <th>Others</th>\n",
       "      <td>4177</td>\n",
       "    </tr>\n",
       "  </tbody>\n",
       "</table>\n",
       "</div>"
      ],
      "text/plain": [
       "                                id\n",
       "category                          \n",
       "Office_Products             393312\n",
       "Tools_and_Home_Improvement  281551\n",
       "Home_and_Garden             266802\n",
       "Automotive                  251303\n",
       "Clothing                    200816\n",
       "Sports_and_Outdoors         163752\n",
       "Other_Electronics           158273\n",
       "Jewelry                     148414\n",
       "Books                       125832\n",
       "Shoes                       124722\n",
       "Computers_and_Accessories   121602\n",
       "Health_and_Beauty           117265\n",
       "Toys_and_Games               96144\n",
       "Grocery_and_Gourmet_Food     90213\n",
       "Luggage_and_Travel_Gear      80209\n",
       "Musical_Instruments          60530\n",
       "Camera_and_Photo             58931\n",
       "CDs_and_Vinyl                53913\n",
       "Cellphones_and_Accessories   45814\n",
       "Baby                         44023\n",
       "not found                    37190\n",
       "Movies_and_TV                29050\n",
       "Video_Games                  27366\n",
       "Pet_Supplies                 18796\n",
       "Others                        4177"
      ]
     },
     "execution_count": 11,
     "metadata": {},
     "output_type": "execute_result"
    }
   ],
   "source": [
    "categories = distinct('category')\n",
    "categories"
   ]
  },
  {
   "cell_type": "code",
   "execution_count": 12,
   "metadata": {},
   "outputs": [
    {
     "data": {
      "text/plain": [
       "25"
      ]
     },
     "execution_count": 12,
     "metadata": {},
     "output_type": "execute_result"
    }
   ],
   "source": [
    "len(categories)"
   ]
  },
  {
   "cell_type": "code",
   "execution_count": 13,
   "metadata": {},
   "outputs": [
    {
     "data": {
      "text/plain": [
       "<AxesSubplot:ylabel='id'>"
      ]
     },
     "execution_count": 13,
     "metadata": {},
     "output_type": "execute_result"
    },
    {
     "data": {
      "image/png": "[encoded data removed]",
      "text/plain": [
       "<Figure size 3960x1080 with 1 Axes>"
      ]
     },
     "metadata": {},
     "output_type": "display_data"
    }
   ],
   "source": [
    "categories.plot.pie(y='id', figsize=(55,15))"
   ]
  },
  {
   "cell_type": "markdown",
   "metadata": {},
   "source": [
    "#### Brands"
   ]
  },
  {
   "cell_type": "code",
   "execution_count": 14,
   "metadata": {},
   "outputs": [
    {
     "data": {
      "text/html": [
       "<div>\n",
       "<style scoped>\n",
       "    .dataframe tbody tr th:only-of-type {\n",
       "        vertical-align: middle;\n",
       "    }\n",
       "\n",
       "    .dataframe tbody tr th {\n",
       "        vertical-align: top;\n",
       "    }\n",
       "\n",
       "    .dataframe thead th {\n",
       "        text-align: right;\n",
       "    }\n",
       "</style>\n",
       "<table border=\"1\" class=\"dataframe\">\n",
       "  <thead>\n",
       "    <tr style=\"text-align: right;\">\n",
       "      <th></th>\n",
       "      <th>id</th>\n",
       "    </tr>\n",
       "    <tr>\n",
       "      <th>brand</th>\n",
       "      <th></th>\n",
       "    </tr>\n",
       "  </thead>\n",
       "  <tbody>\n",
       "    <tr>\n",
       "      <th>\"Baseball Monkey\"@en</th>\n",
       "      <td>74080</td>\n",
       "    </tr>\n",
       "    <tr>\n",
       "      <th>\"HP Enterprise\"</th>\n",
       "      <td>30643</td>\n",
       "    </tr>\n",
       "    <tr>\n",
       "      <th>\"*\"</th>\n",
       "      <td>25209</td>\n",
       "    </tr>\n",
       "    <tr>\n",
       "      <th>\"Null\"</th>\n",
       "      <td>14842</td>\n",
       "    </tr>\n",
       "    <tr>\n",
       "      <th>\"Null\"@en</th>\n",
       "      <td>8929</td>\n",
       "    </tr>\n",
       "    <tr>\n",
       "      <th>\"Jaguar\"@en</th>\n",
       "      <td>8117</td>\n",
       "    </tr>\n",
       "    <tr>\n",
       "      <th>\"Genuine BMW\"</th>\n",
       "      <td>6989</td>\n",
       "    </tr>\n",
       "    <tr>\n",
       "      <th>\"Land Rover\"@en</th>\n",
       "      <td>5881</td>\n",
       "    </tr>\n",
       "    <tr>\n",
       "      <th>\"Texas Instruments\"</th>\n",
       "      <td>4270</td>\n",
       "    </tr>\n",
       "    <tr>\n",
       "      <th>\"VALUE BRAND\"@en</th>\n",
       "      <td>4224</td>\n",
       "    </tr>\n",
       "    <tr>\n",
       "      <th>\"Datalogic\"@it</th>\n",
       "      <td>4177</td>\n",
       "    </tr>\n",
       "    <tr>\n",
       "      <th>\"Audible Studios\"@en-US</th>\n",
       "      <td>3975</td>\n",
       "    </tr>\n",
       "    <tr>\n",
       "      <th>\"Upper Deck\"@en</th>\n",
       "      <td>3387</td>\n",
       "    </tr>\n",
       "    <tr>\n",
       "      <th>\"Dell\"</th>\n",
       "      <td>3197</td>\n",
       "    </tr>\n",
       "    <tr>\n",
       "      <th>\"Charlotte Russe\"@en</th>\n",
       "      <td>3125</td>\n",
       "    </tr>\n",
       "  </tbody>\n",
       "</table>\n",
       "</div>"
      ],
      "text/plain": [
       "                            id\n",
       "brand                         \n",
       "\"Baseball Monkey\"@en     74080\n",
       "\"HP Enterprise\"          30643\n",
       "\"*\"                      25209\n",
       "\"Null\"                   14842\n",
       "\"Null\"@en                 8929\n",
       "\"Jaguar\"@en               8117\n",
       "\"Genuine BMW\"             6989\n",
       "\"Land Rover\"@en           5881\n",
       "\"Texas Instruments\"       4270\n",
       "\"VALUE BRAND\"@en          4224\n",
       "\"Datalogic\"@it            4177\n",
       "\"Audible Studios\"@en-US   3975\n",
       "\"Upper Deck\"@en           3387\n",
       "\"Dell\"                    3197\n",
       "\"Charlotte Russe\"@en      3125"
      ]
     },
     "execution_count": 14,
     "metadata": {},
     "output_type": "execute_result"
    }
   ],
   "source": [
    "brands = distinct('brand')\n",
    "brands.head(15)"
   ]
  },
  {
   "cell_type": "code",
   "execution_count": 15,
   "metadata": {},
   "outputs": [
    {
     "data": {
      "text/plain": [
       "121040"
      ]
     },
     "execution_count": 15,
     "metadata": {},
     "output_type": "execute_result"
    }
   ],
   "source": [
    "len(brands)"
   ]
  },
  {
   "cell_type": "code",
   "execution_count": 19,
   "metadata": {},
   "outputs": [
    {
     "data": {
      "text/html": [
       "<div>\n",
       "<style scoped>\n",
       "    .dataframe tbody tr th:only-of-type {\n",
       "        vertical-align: middle;\n",
       "    }\n",
       "\n",
       "    .dataframe tbody tr th {\n",
       "        vertical-align: top;\n",
       "    }\n",
       "\n",
       "    .dataframe thead th {\n",
       "        text-align: right;\n",
       "    }\n",
       "</style>\n",
       "<table border=\"1\" class=\"dataframe\">\n",
       "  <thead>\n",
       "    <tr style=\"text-align: right;\">\n",
       "      <th></th>\n",
       "      <th>id</th>\n",
       "      <th>cluster_id</th>\n",
       "      <th>category</th>\n",
       "      <th>title</th>\n",
       "      <th>description</th>\n",
       "      <th>brand</th>\n",
       "      <th>price</th>\n",
       "      <th>keyValuePairs</th>\n",
       "      <th>specTableContent</th>\n",
       "    </tr>\n",
       "  </thead>\n",
       "  <tbody>\n",
       "    <tr>\n",
       "      <th>83</th>\n",
       "      <td>9141983</td>\n",
       "      <td>6310626</td>\n",
       "      <td>Home_and_Garden</td>\n",
       "      <td>\"Tulane Green Wave Colossal Wrap\"@en Wrap | T...</td>\n",
       "      <td>\"\\n\\nRide a colossal Tulane Green Wave of prid...</td>\n",
       "      <td>\"Null\"@en</td>\n",
       "      <td>None</td>\n",
       "      <td>None</td>\n",
       "      <td>None</td>\n",
       "    </tr>\n",
       "    <tr>\n",
       "      <th>92</th>\n",
       "      <td>4342281</td>\n",
       "      <td>245869</td>\n",
       "      <td>Office_Products</td>\n",
       "      <td>\"HP Colour LaserJet Pro MFP M477fdn\"@en Print...</td>\n",
       "      <td>None</td>\n",
       "      <td>\"Null\"@en</td>\n",
       "      <td>None</td>\n",
       "      <td>None</td>\n",
       "      <td>None</td>\n",
       "    </tr>\n",
       "    <tr>\n",
       "      <th>506</th>\n",
       "      <td>2576189</td>\n",
       "      <td>4707205</td>\n",
       "      <td>Tools_and_Home_Improvement</td>\n",
       "      <td>\"64\" Dimplex Upton Espresso Electrical Firepl...</td>\n",
       "      <td>\"The Upton provides a focal point for any dini...</td>\n",
       "      <td>\"Null\"@en</td>\n",
       "      <td>None</td>\n",
       "      <td>None</td>\n",
       "      <td>None</td>\n",
       "    </tr>\n",
       "    <tr>\n",
       "      <th>654</th>\n",
       "      <td>394409</td>\n",
       "      <td>10218445</td>\n",
       "      <td>not found</td>\n",
       "      <td>\"3D sheet Blumen-Mädchen - Format A4\"@en shee...</td>\n",
       "      <td>None</td>\n",
       "      <td>\"Null\"@en</td>\n",
       "      <td>None</td>\n",
       "      <td>None</td>\n",
       "      <td>None</td>\n",
       "    </tr>\n",
       "    <tr>\n",
       "      <th>689</th>\n",
       "      <td>7673036</td>\n",
       "      <td>15162310</td>\n",
       "      <td>Clothing</td>\n",
       "      <td>\"Regatta Men's Cera III Softshell Jacket\"@en</td>\n",
       "      <td>\"\\n\\t    The men's Cera III is a best-selling ...</td>\n",
       "      <td>\"Null\"@en</td>\n",
       "      <td>None</td>\n",
       "      <td>{'92 - 98': '52 - 53', '98 - 104': '53 - 54', ...</td>\n",
       "      <td>Size Chest (Inches) Chest (cm) Waist (Inches)...</td>\n",
       "    </tr>\n",
       "  </tbody>\n",
       "</table>\n",
       "</div>"
      ],
      "text/plain": [
       "          id  cluster_id                    category  \\\n",
       "83   9141983     6310626             Home_and_Garden   \n",
       "92   4342281      245869             Office_Products   \n",
       "506  2576189     4707205  Tools_and_Home_Improvement   \n",
       "654   394409    10218445                   not found   \n",
       "689  7673036    15162310                    Clothing   \n",
       "\n",
       "                                                 title  \\\n",
       "83    \"Tulane Green Wave Colossal Wrap\"@en Wrap | T...   \n",
       "92    \"HP Colour LaserJet Pro MFP M477fdn\"@en Print...   \n",
       "506   \"64\" Dimplex Upton Espresso Electrical Firepl...   \n",
       "654   \"3D sheet Blumen-Mädchen - Format A4\"@en shee...   \n",
       "689       \"Regatta Men's Cera III Softshell Jacket\"@en   \n",
       "\n",
       "                                           description      brand price  \\\n",
       "83   \"\\n\\nRide a colossal Tulane Green Wave of prid...  \"Null\"@en  None   \n",
       "92                                                None  \"Null\"@en  None   \n",
       "506  \"The Upton provides a focal point for any dini...  \"Null\"@en  None   \n",
       "654                                               None  \"Null\"@en  None   \n",
       "689  \"\\n\\t    The men's Cera III is a best-selling ...  \"Null\"@en  None   \n",
       "\n",
       "                                         keyValuePairs  \\\n",
       "83                                                None   \n",
       "92                                                None   \n",
       "506                                               None   \n",
       "654                                               None   \n",
       "689  {'92 - 98': '52 - 53', '98 - 104': '53 - 54', ...   \n",
       "\n",
       "                                      specTableContent  \n",
       "83                                                None  \n",
       "92                                                None  \n",
       "506                                               None  \n",
       "654                                               None  \n",
       "689   Size Chest (Inches) Chest (cm) Waist (Inches)...  "
      ]
     },
     "execution_count": 19,
     "metadata": {},
     "output_type": "execute_result"
    }
   ],
   "source": [
    "corpus[corpus['brand'] == \"\\\"Null\\\"@en\"].head()"
   ]
  },
  {
   "cell_type": "code",
   "execution_count": 20,
   "metadata": {},
   "outputs": [
    {
     "data": {
      "text/html": [
       "<div>\n",
       "<style scoped>\n",
       "    .dataframe tbody tr th:only-of-type {\n",
       "        vertical-align: middle;\n",
       "    }\n",
       "\n",
       "    .dataframe tbody tr th {\n",
       "        vertical-align: top;\n",
       "    }\n",
       "\n",
       "    .dataframe thead th {\n",
       "        text-align: right;\n",
       "    }\n",
       "</style>\n",
       "<table border=\"1\" class=\"dataframe\">\n",
       "  <thead>\n",
       "    <tr style=\"text-align: right;\">\n",
       "      <th></th>\n",
       "      <th>id</th>\n",
       "      <th>cluster_id</th>\n",
       "      <th>category</th>\n",
       "      <th>title</th>\n",
       "      <th>description</th>\n",
       "      <th>brand</th>\n",
       "      <th>price</th>\n",
       "      <th>keyValuePairs</th>\n",
       "      <th>specTableContent</th>\n",
       "    </tr>\n",
       "  </thead>\n",
       "  <tbody>\n",
       "    <tr>\n",
       "      <th>25</th>\n",
       "      <td>951124</td>\n",
       "      <td>2092365</td>\n",
       "      <td>Automotive</td>\n",
       "      <td>\"Honda PROTECTOR, R. FR. DOOR *R78P*\" *R78P* ...</td>\n",
       "      <td>None</td>\n",
       "      <td>\"*\"</td>\n",
       "      <td>None</td>\n",
       "      <td>None</td>\n",
       "      <td>None</td>\n",
       "    </tr>\n",
       "    <tr>\n",
       "      <th>55</th>\n",
       "      <td>10447015</td>\n",
       "      <td>2578011</td>\n",
       "      <td>Automotive</td>\n",
       "      <td>\"Honda MOTOR SET\" \" 53602-SNR-A02 | Honda SET...</td>\n",
       "      <td>None</td>\n",
       "      <td>\"*\"</td>\n",
       "      <td>None</td>\n",
       "      <td>None</td>\n",
       "      <td>None</td>\n",
       "    </tr>\n",
       "    <tr>\n",
       "      <th>772</th>\n",
       "      <td>13320490</td>\n",
       "      <td>15767330</td>\n",
       "      <td>Automotive</td>\n",
       "      <td>\"Honda SEAT BELT ASSY., R. RR. *YR89L* (NIPPO...</td>\n",
       "      <td>None</td>\n",
       "      <td>\"*\"</td>\n",
       "      <td>None</td>\n",
       "      <td>None</td>\n",
       "      <td>None</td>\n",
       "    </tr>\n",
       "    <tr>\n",
       "      <th>829</th>\n",
       "      <td>15379237</td>\n",
       "      <td>5945648</td>\n",
       "      <td>Automotive</td>\n",
       "      <td>\"Honda COVER B, IN. MANIFOLD\" \" 17113-P0G-A00...</td>\n",
       "      <td>None</td>\n",
       "      <td>\"*\"</td>\n",
       "      <td>None</td>\n",
       "      <td>None</td>\n",
       "      <td>None</td>\n",
       "    </tr>\n",
       "    <tr>\n",
       "      <th>834</th>\n",
       "      <td>7855587</td>\n",
       "      <td>2659909</td>\n",
       "      <td>Automotive</td>\n",
       "      <td>\"Honda FLOOR MAT, FR. *B14L*(NOT AVAILABLE)\" ...</td>\n",
       "      <td>None</td>\n",
       "      <td>\"*\"</td>\n",
       "      <td>None</td>\n",
       "      <td>None</td>\n",
       "      <td>None</td>\n",
       "    </tr>\n",
       "  </tbody>\n",
       "</table>\n",
       "</div>"
      ],
      "text/plain": [
       "           id  cluster_id    category  \\\n",
       "25     951124     2092365  Automotive   \n",
       "55   10447015     2578011  Automotive   \n",
       "772  13320490    15767330  Automotive   \n",
       "829  15379237     5945648  Automotive   \n",
       "834   7855587     2659909  Automotive   \n",
       "\n",
       "                                                 title description brand  \\\n",
       "25    \"Honda PROTECTOR, R. FR. DOOR *R78P*\" *R78P* ...        None   \"*\"   \n",
       "55    \"Honda MOTOR SET\" \" 53602-SNR-A02 | Honda SET...        None   \"*\"   \n",
       "772   \"Honda SEAT BELT ASSY., R. RR. *YR89L* (NIPPO...        None   \"*\"   \n",
       "829   \"Honda COVER B, IN. MANIFOLD\" \" 17113-P0G-A00...        None   \"*\"   \n",
       "834   \"Honda FLOOR MAT, FR. *B14L*(NOT AVAILABLE)\" ...        None   \"*\"   \n",
       "\n",
       "    price keyValuePairs specTableContent  \n",
       "25   None          None             None  \n",
       "55   None          None             None  \n",
       "772  None          None             None  \n",
       "829  None          None             None  \n",
       "834  None          None             None  "
      ]
     },
     "execution_count": 20,
     "metadata": {},
     "output_type": "execute_result"
    }
   ],
   "source": [
    "corpus[corpus['brand'] == \"\\\"*\\\"\"].head()"
   ]
  },
  {
   "cell_type": "code",
   "execution_count": 21,
   "metadata": {},
   "outputs": [
    {
     "data": {
      "text/html": [
       "<div>\n",
       "<style scoped>\n",
       "    .dataframe tbody tr th:only-of-type {\n",
       "        vertical-align: middle;\n",
       "    }\n",
       "\n",
       "    .dataframe tbody tr th {\n",
       "        vertical-align: top;\n",
       "    }\n",
       "\n",
       "    .dataframe thead th {\n",
       "        text-align: right;\n",
       "    }\n",
       "</style>\n",
       "<table border=\"1\" class=\"dataframe\">\n",
       "  <thead>\n",
       "    <tr style=\"text-align: right;\">\n",
       "      <th></th>\n",
       "      <th>title</th>\n",
       "      <th>category</th>\n",
       "      <th>keyValuePairs</th>\n",
       "    </tr>\n",
       "  </thead>\n",
       "  <tbody>\n",
       "    <tr>\n",
       "      <th>21</th>\n",
       "      <td>\"Bushing, Series F, Bore Dia 1.625 In\"@en In ...</td>\n",
       "      <td>Tools_and_Home_Improvement</td>\n",
       "      <td>{'Includes: Bolts and Washers': 'Item: Quick D...</td>\n",
       "    </tr>\n",
       "    <tr>\n",
       "      <th>23</th>\n",
       "      <td>\" TPS-2031 Flat Panel Fixed Truss &amp; Pole Moun...</td>\n",
       "      <td>Other_Electronics</td>\n",
       "      <td>{'Number of Displays': '1', 'Mounting-Hole Pat...</td>\n",
       "    </tr>\n",
       "    <tr>\n",
       "      <th>32</th>\n",
       "      <td>\"Deformed Clip Haikyu!! Second Season Vol. 2 ...</td>\n",
       "      <td>Movies_and_TV</td>\n",
       "      <td>{'Original Name ': 'でふぉめくりっぷ ハイキュー!! vol.2', '...</td>\n",
       "    </tr>\n",
       "    <tr>\n",
       "      <th>44</th>\n",
       "      <td>\"No.6 (3.5mm) x 40mm Pozi Button Head Wood Sc...</td>\n",
       "      <td>Tools_and_Home_Improvement</td>\n",
       "      <td>{'Finish': 'Chemical Matte Black', 'Head Diame...</td>\n",
       "    </tr>\n",
       "    <tr>\n",
       "      <th>59</th>\n",
       "      <td>\"BD450DAJZH HP 450-GB 10K FC-AL HDD\", \"Null\" ...</td>\n",
       "      <td>Computers_and_Accessories</td>\n",
       "      <td>{'Category': 'Storageworks HDD', 'Sub-Category...</td>\n",
       "    </tr>\n",
       "  </tbody>\n",
       "</table>\n",
       "</div>"
      ],
      "text/plain": [
       "                                                title  \\\n",
       "21   \"Bushing, Series F, Bore Dia 1.625 In\"@en In ...   \n",
       "23   \" TPS-2031 Flat Panel Fixed Truss & Pole Moun...   \n",
       "32   \"Deformed Clip Haikyu!! Second Season Vol. 2 ...   \n",
       "44   \"No.6 (3.5mm) x 40mm Pozi Button Head Wood Sc...   \n",
       "59   \"BD450DAJZH HP 450-GB 10K FC-AL HDD\", \"Null\" ...   \n",
       "\n",
       "                      category  \\\n",
       "21  Tools_and_Home_Improvement   \n",
       "23           Other_Electronics   \n",
       "32               Movies_and_TV   \n",
       "44  Tools_and_Home_Improvement   \n",
       "59   Computers_and_Accessories   \n",
       "\n",
       "                                        keyValuePairs  \n",
       "21  {'Includes: Bolts and Washers': 'Item: Quick D...  \n",
       "23  {'Number of Displays': '1', 'Mounting-Hole Pat...  \n",
       "32  {'Original Name ': 'でふぉめくりっぷ ハイキュー!! vol.2', '...  \n",
       "44  {'Finish': 'Chemical Matte Black', 'Head Diame...  \n",
       "59  {'Category': 'Storageworks HDD', 'Sub-Category...  "
      ]
     },
     "execution_count": 21,
     "metadata": {},
     "output_type": "execute_result"
    }
   ],
   "source": [
    "corpus[corpus['keyValuePairs'].notnull()][['title', 'category', 'keyValuePairs']].head()"
   ]
  },
  {
   "cell_type": "markdown",
   "metadata": {},
   "source": [
    "#### Spec table"
   ]
  },
  {
   "cell_type": "code",
   "execution_count": null,
   "metadata": {},
   "outputs": [],
   "source": []
  },
  {
   "cell_type": "markdown",
   "metadata": {},
   "source": [
    "#### Params"
   ]
  },
  {
   "cell_type": "code",
   "execution_count": null,
   "metadata": {},
   "outputs": [],
   "source": []
  },
  {
   "cell_type": "markdown",
   "metadata": {},
   "source": [
    "---\n",
    "## Features"
   ]
  },
  {
   "cell_type": "code",
   "execution_count": null,
   "metadata": {},
   "outputs": [],
   "source": []
  },
  {
   "cell_type": "code",
   "execution_count": null,
   "metadata": {},
   "outputs": [],
   "source": []
  },
  {
   "cell_type": "markdown",
   "metadata": {},
   "source": [
    "---\n",
    "## Model"
   ]
  },
  {
   "cell_type": "markdown",
   "metadata": {},
   "source": [
    "### Algorithm for training\n",
    "1. Tokenize text\n",
    "1. Lemmanize text\n",
    "1. Divide by categories\n",
    "1. Train category specific models"
   ]
  },
  {
   "cell_type": "markdown",
   "metadata": {},
   "source": [
    "### Algorithm for predictios\n",
    "1. Divide by categoires\n",
    "1. Find EANs\n",
    "1. For not matched predict with category specific model\n"
   ]
  },
  {
   "cell_type": "markdown",
   "metadata": {},
   "source": [
    "### Env"
   ]
  },
  {
   "cell_type": "code",
   "execution_count": 104,
   "metadata": {},
   "outputs": [],
   "source": [
    "from nltk.stem.snowball import SnowballStemmer\n",
    "import nltk \n",
    "from sklearn.pipeline import Pipeline\n",
    "from sklearn.feature_extraction.text import TfidfTransformer\n",
    "from sklearn.naive_bayes import MultinomialNB\n",
    "from sklearn.model_selection import train_test_split\n",
    "from sklearn.feature_extraction.text import CountVectorizer\n"
   ]
  },
  {
   "cell_type": "code",
   "execution_count": 105,
   "metadata": {},
   "outputs": [],
   "source": [
    "# only for first run!\n",
    "# nltk.download()"
   ]
  },
  {
   "cell_type": "code",
   "execution_count": null,
   "metadata": {},
   "outputs": [],
   "source": []
  },
  {
   "cell_type": "markdown",
   "metadata": {},
   "source": [
    "## Data"
   ]
  },
  {
   "cell_type": "code",
   "execution_count": 168,
   "metadata": {},
   "outputs": [],
   "source": [
    "data = corpus.copy()\n",
    "data = data[data['category'] == 'Tools_and_Home_Improvement'].head(7_000)"
   ]
  },
  {
   "cell_type": "code",
   "execution_count": null,
   "metadata": {},
   "outputs": [],
   "source": []
  },
  {
   "cell_type": "code",
   "execution_count": 173,
   "metadata": {},
   "outputs": [],
   "source": [
    "import re\n",
    "\n",
    "class StringParser:\n",
    "  def __init__(self, text):\n",
    "    self.text = text\n",
    "  \n",
    "  def rm(self, reg, char=\" \"):\n",
    "    self.text = re.sub(reg, char, self.text)\n",
    "    return self\n",
    "  \n",
    "  #usuniecie spacji na początku i końcu tekstu\n",
    "  def toString(self):\n",
    "    if self.text.strip() == '': #jeśli string jest pusty to zwracamy None\n",
    "      return ''\n",
    "    return self.text.strip() \n",
    "\n",
    "# '\\|[\\s\\w]+' czyszczenie brandów za pionowymi kreskami lub samych pionowych kresek\n",
    "# '\\@([\\w\\-])+' czyszczenie języków\n",
    "# '\\<[[A-z\\/]*\\>' czyszczenie z HTML'a\n",
    "# '\\'\\ |\\ \\'|(\\s|\\\")+' czyszczenie białych (\\n, ,\\t ,\\\" ,\\r ,\\' ze spacją przed i lub z [\"Women's\" lub o'clock powinno zostać jak jest]), czyszczenie zwielokrotnionych spacji w środku\n",
    "\n",
    "def czyszczacz_slow(text):\n",
    "  return StringParser(text).rm(r'\\|[\\s\\w]+').rm(r'\\@([\\w\\-])+').rm(r'\\<[[A-z\\/]*\\>').rm(r'\\'\\ |\\ \\'|(\\s|\\\")+').toString()"
   ]
  },
  {
   "cell_type": "code",
   "execution_count": 174,
   "metadata": {},
   "outputs": [],
   "source": [
    "data['parsed'] = data['title'].map(czyszczacz_slow)"
   ]
  },
  {
   "cell_type": "code",
   "execution_count": 187,
   "metadata": {},
   "outputs": [],
   "source": [
    "from nltk import WordNetLemmatizer\n",
    "from nltk.stem import PorterStemmer\n",
    "\n",
    "# https://medium.com/@ishan16.d/text-classification-in-python-with-scikit-learn-and-nltk-891aa2d0ac4b\n",
    "# https://towardsdatascience.com/multi-class-text-classification-with-sklearn-and-nltk-in-python-a-software-engineering-use-case-779d4a28ba5\n",
    "# https://github.com/anhaidgroup/deepmatcher\n",
    "\n",
    "def stemmer(x):\n",
    " stemmer = PorterStemmer()\n",
    " return ' '.join([stemmer.stem(word) for word in x])\n",
    " \n",
    "def lemmatize(x):\n",
    " lemmatizer = WordNetLemmatizer()\n",
    " return ' '.join([lemmatizer.lemmatize(word) for word in x])"
   ]
  },
  {
   "cell_type": "code",
   "execution_count": 176,
   "metadata": {},
   "outputs": [],
   "source": [
    "data['tokens'] = data['parsed'].map(nltk.word_tokenize)\n",
    "data['text'] = data['tokens'].map(stemmer)"
   ]
  },
  {
   "cell_type": "code",
   "execution_count": 177,
   "metadata": {},
   "outputs": [
    {
     "data": {
      "text/plain": [
       "7000"
      ]
     },
     "execution_count": 177,
     "metadata": {},
     "output_type": "execute_result"
    }
   ],
   "source": [
    "len(data)"
   ]
  },
  {
   "cell_type": "code",
   "execution_count": 178,
   "metadata": {},
   "outputs": [
    {
     "data": {
      "text/html": [
       "<div>\n",
       "<style scoped>\n",
       "    .dataframe tbody tr th:only-of-type {\n",
       "        vertical-align: middle;\n",
       "    }\n",
       "\n",
       "    .dataframe tbody tr th {\n",
       "        vertical-align: top;\n",
       "    }\n",
       "\n",
       "    .dataframe thead th {\n",
       "        text-align: right;\n",
       "    }\n",
       "</style>\n",
       "<table border=\"1\" class=\"dataframe\">\n",
       "  <thead>\n",
       "    <tr style=\"text-align: right;\">\n",
       "      <th></th>\n",
       "      <th>id</th>\n",
       "      <th>cluster_id</th>\n",
       "      <th>category</th>\n",
       "      <th>title</th>\n",
       "      <th>description</th>\n",
       "      <th>brand</th>\n",
       "      <th>price</th>\n",
       "      <th>keyValuePairs</th>\n",
       "      <th>specTableContent</th>\n",
       "      <th>parsed</th>\n",
       "      <th>tokens</th>\n",
       "      <th>text</th>\n",
       "    </tr>\n",
       "  </thead>\n",
       "  <tbody>\n",
       "    <tr>\n",
       "      <th>1</th>\n",
       "      <td>12648455</td>\n",
       "      <td>11167803</td>\n",
       "      <td>Tools_and_Home_Improvement</td>\n",
       "      <td>\"Krowne - 14-802L 8 in Royal Series Wall Moun...</td>\n",
       "      <td>\"The 14-802L Royal Series Wall Mount Faucet w/...</td>\n",
       "      <td>\"Krowne\"@en</td>\n",
       "      <td>None</td>\n",
       "      <td>None</td>\n",
       "      <td>None</td>\n",
       "      <td>Krowne - 14-802L 8 in Royal Series Wall Mount ...</td>\n",
       "      <td>[Krowne, -, 14-802L, 8, in, Royal, Series, Wal...</td>\n",
       "      <td>krown - 14-802l 8 in royal seri wall mount fau...</td>\n",
       "    </tr>\n",
       "    <tr>\n",
       "      <th>10</th>\n",
       "      <td>9224645</td>\n",
       "      <td>3333658</td>\n",
       "      <td>Tools_and_Home_Improvement</td>\n",
       "      <td>\"Bee line Dragway Sign\" \"Drag Racing - Signs ...</td>\n",
       "      <td>\"Bee Line Dragway in Arizona - Smell the smoke...</td>\n",
       "      <td>None</td>\n",
       "      <td>\"USD\", \"99.95\"</td>\n",
       "      <td>None</td>\n",
       "      <td>None</td>\n",
       "      <td>Bee line Dragway Sign Drag Racing - Signs from...</td>\n",
       "      <td>[Bee, line, Dragway, Sign, Drag, Racing, -, Si...</td>\n",
       "      <td>bee line dragway sign drag race - sign from ga...</td>\n",
       "    </tr>\n",
       "    <tr>\n",
       "      <th>21</th>\n",
       "      <td>6596017</td>\n",
       "      <td>4266748</td>\n",
       "      <td>Tools_and_Home_Improvement</td>\n",
       "      <td>\"Bushing, Series F, Bore Dia 1.625 In\"@en In ...</td>\n",
       "      <td>None</td>\n",
       "      <td>\"GATES\"@en</td>\n",
       "      <td>None</td>\n",
       "      <td>{'Includes: Bolts and Washers': 'Item: Quick D...</td>\n",
       "      <td>Zoro #: G2309316 Mfr #: F 1 5/8 Includes: Bol...</td>\n",
       "      <td>Bushing, Series F, Bore Dia 1.625 In In F 1 5/...</td>\n",
       "      <td>[Bushing, ,, Series, F, ,, Bore, Dia, 1.625, I...</td>\n",
       "      <td>bush , seri F , bore dia 1.625 In In F 1 5/8 ....</td>\n",
       "    </tr>\n",
       "  </tbody>\n",
       "</table>\n",
       "</div>"
      ],
      "text/plain": [
       "          id  cluster_id                    category  \\\n",
       "1   12648455    11167803  Tools_and_Home_Improvement   \n",
       "10   9224645     3333658  Tools_and_Home_Improvement   \n",
       "21   6596017     4266748  Tools_and_Home_Improvement   \n",
       "\n",
       "                                                title  \\\n",
       "1    \"Krowne - 14-802L 8 in Royal Series Wall Moun...   \n",
       "10   \"Bee line Dragway Sign\" \"Drag Racing - Signs ...   \n",
       "21   \"Bushing, Series F, Bore Dia 1.625 In\"@en In ...   \n",
       "\n",
       "                                          description        brand  \\\n",
       "1   \"The 14-802L Royal Series Wall Mount Faucet w/...  \"Krowne\"@en   \n",
       "10  \"Bee Line Dragway in Arizona - Smell the smoke...         None   \n",
       "21                                               None   \"GATES\"@en   \n",
       "\n",
       "             price                                      keyValuePairs  \\\n",
       "1             None                                               None   \n",
       "10  \"USD\", \"99.95\"                                               None   \n",
       "21            None  {'Includes: Bolts and Washers': 'Item: Quick D...   \n",
       "\n",
       "                                     specTableContent  \\\n",
       "1                                                None   \n",
       "10                                               None   \n",
       "21   Zoro #: G2309316 Mfr #: F 1 5/8 Includes: Bol...   \n",
       "\n",
       "                                               parsed  \\\n",
       "1   Krowne - 14-802L 8 in Royal Series Wall Mount ...   \n",
       "10  Bee line Dragway Sign Drag Racing - Signs from...   \n",
       "21  Bushing, Series F, Bore Dia 1.625 In In F 1 5/...   \n",
       "\n",
       "                                               tokens  \\\n",
       "1   [Krowne, -, 14-802L, 8, in, Royal, Series, Wal...   \n",
       "10  [Bee, line, Dragway, Sign, Drag, Racing, -, Si...   \n",
       "21  [Bushing, ,, Series, F, ,, Bore, Dia, 1.625, I...   \n",
       "\n",
       "                                                 text  \n",
       "1   krown - 14-802l 8 in royal seri wall mount fau...  \n",
       "10  bee line dragway sign drag race - sign from ga...  \n",
       "21  bush , seri F , bore dia 1.625 In In F 1 5/8 ....  "
      ]
     },
     "execution_count": 178,
     "metadata": {},
     "output_type": "execute_result"
    }
   ],
   "source": [
    "data.head(3)"
   ]
  },
  {
   "cell_type": "markdown",
   "metadata": {},
   "source": [
    "### Test & Train Data"
   ]
  },
  {
   "cell_type": "code",
   "execution_count": 179,
   "metadata": {},
   "outputs": [],
   "source": [
    "features = 'text'\n",
    "target = 'cluster_id'\n",
    "\n",
    "X_train, X_test, y_train, y_test = train_test_split(data[features], data[target], test_size=0.2, random_state=42)"
   ]
  },
  {
   "cell_type": "markdown",
   "metadata": {},
   "source": [
    "### Train"
   ]
  },
  {
   "cell_type": "code",
   "execution_count": 180,
   "metadata": {},
   "outputs": [],
   "source": [
    "from sklearn.feature_extraction.text import CountVectorizer, TfidfVectorizer\n",
    "pipe_mnnb = Pipeline(steps = [\n",
    "    ('tf', TfidfVectorizer()),\n",
    "    ('mnnb', MultinomialNB())\n",
    "])"
   ]
  },
  {
   "cell_type": "code",
   "execution_count": null,
   "metadata": {},
   "outputs": [],
   "source": []
  },
  {
   "cell_type": "code",
   "execution_count": 181,
   "metadata": {},
   "outputs": [
    {
     "name": "stderr",
     "output_type": "stream",
     "text": [
      "c:\\users\\jakub\\dev\\zti_project\\venv\\lib\\site-packages\\sklearn\\model_selection\\_split.py:670: UserWarning: The least populated class in y has only 1 members, which is less than n_splits=5.\n",
      "  warnings.warn((\"The least populated class in y has only %d\"\n"
     ]
    },
    {
     "data": {
      "text/plain": [
       "GridSearchCV(cv=5,\n",
       "             estimator=Pipeline(steps=[('tf', TfidfVectorizer()),\n",
       "                                       ('mnnb', MultinomialNB())]),\n",
       "             n_jobs=-1,\n",
       "             param_grid={'mnnb__alpha': [0.1, 0.5, 1],\n",
       "                         'tf__max_features': [1000, 2000, 3000],\n",
       "                         'tf__ngram_range': [(1, 1), (1, 2)],\n",
       "                         'tf__stop_words': ['english', None],\n",
       "                         'tf__use_idf': [True, False]})"
      ]
     },
     "execution_count": 181,
     "metadata": {},
     "output_type": "execute_result"
    }
   ],
   "source": [
    "from sklearn.model_selection import train_test_split, cross_val_score, GridSearchCV\n",
    "\n",
    "pgrid_mnnb = {\n",
    " 'tf__max_features' : [1000, 2000, 3000],\n",
    " 'tf__stop_words' : ['english', None],\n",
    " 'tf__ngram_range' : [(1,1),(1,2)],\n",
    " 'tf__use_idf' : [True, False],\n",
    " 'mnnb__alpha' : [0.1, 0.5, 1]\n",
    "}\n",
    "\n",
    "gs_mnnb = GridSearchCV(pipe_mnnb,pgrid_mnnb,cv=5,n_jobs=-1)\n",
    "gs_mnnb.fit(X_train, y_train)"
   ]
  },
  {
   "cell_type": "code",
   "execution_count": 185,
   "metadata": {},
   "outputs": [
    {
     "data": {
      "text/plain": [
       "0.9146428571428571"
      ]
     },
     "execution_count": 185,
     "metadata": {},
     "output_type": "execute_result"
    }
   ],
   "source": [
    "gs_mnnb.score(X_train, y_train)"
   ]
  },
  {
   "cell_type": "code",
   "execution_count": 186,
   "metadata": {},
   "outputs": [
    {
     "data": {
      "text/plain": [
       "0.0064285714285714285"
      ]
     },
     "execution_count": 186,
     "metadata": {},
     "output_type": "execute_result"
    }
   ],
   "source": [
    "gs_mnnb.score(X_test, y_test)"
   ]
  },
  {
   "cell_type": "code",
   "execution_count": null,
   "metadata": {},
   "outputs": [],
   "source": [
    "# ~63%"
   ]
  },
  {
   "cell_type": "markdown",
   "metadata": {},
   "source": [
    "### Prepare"
   ]
  },
  {
   "cell_type": "code",
   "execution_count": 30,
   "metadata": {},
   "outputs": [
    {
     "data": {
      "text/plain": [
       "['Musical_Instruments',\n",
       " 'Tools_and_Home_Improvement',\n",
       " 'Jewelry',\n",
       " 'Sports_and_Outdoors',\n",
       " 'Shoes',\n",
       " 'Office_Products',\n",
       " 'Toys_and_Games',\n",
       " 'Books',\n",
       " 'Computers_and_Accessories',\n",
       " 'Automotive',\n",
       " 'Other_Electronics',\n",
       " 'Clothing',\n",
       " 'Home_and_Garden',\n",
       " 'Video_Games',\n",
       " 'Camera_and_Photo',\n",
       " 'Baby',\n",
       " 'Movies_and_TV',\n",
       " 'Cellphones_and_Accessories',\n",
       " 'Grocery_and_Gourmet_Food',\n",
       " 'CDs_and_Vinyl',\n",
       " 'Others',\n",
       " 'Health_and_Beauty',\n",
       " 'not found',\n",
       " 'Luggage_and_Travel_Gear',\n",
       " 'Pet_Supplies']"
      ]
     },
     "execution_count": 30,
     "metadata": {},
     "output_type": "execute_result"
    }
   ],
   "source": [
    "cats = list(corpus['category'].unique())\n",
    "cats"
   ]
  },
  {
   "cell_type": "markdown",
   "metadata": {},
   "source": []
  },
  {
   "cell_type": "code",
   "execution_count": 44,
   "metadata": {},
   "outputs": [],
   "source": []
  },
  {
   "cell_type": "code",
   "execution_count": null,
   "metadata": {},
   "outputs": [],
   "source": []
  },
  {
   "cell_type": "code",
   "execution_count": null,
   "metadata": {},
   "outputs": [],
   "source": []
  },
  {
   "cell_type": "code",
   "execution_count": null,
   "metadata": {},
   "outputs": [],
   "source": []
  },
  {
   "cell_type": "code",
   "execution_count": null,
   "metadata": {},
   "outputs": [],
   "source": []
  },
  {
   "cell_type": "markdown",
   "metadata": {},
   "source": [
    "# Brudnopis"
   ]
  },
  {
   "cell_type": "markdown",
   "metadata": {},
   "source": []
  }
 ],
 "metadata": {
  "kernelspec": {
   "display_name": "Python 3",
   "language": "python",
   "name": "python3"
  },
  "language_info": {
   "codemirror_mode": {
    "name": "ipython",
    "version": 3
   },
   "file_extension": ".py",
   "mimetype": "text/x-python",
   "name": "python",
   "nbconvert_exporter": "python",
   "pygments_lexer": "ipython3",
   "version": "3.8.6"
  }
 },
 "nbformat": 4,
 "nbformat_minor": 4
}
